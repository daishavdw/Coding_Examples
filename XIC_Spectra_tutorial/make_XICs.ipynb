{
 "cells": [
  {
   "cell_type": "code",
   "execution_count": 1,
   "metadata": {},
   "outputs": [],
   "source": [
    "import pyteomics\n",
    "import altair as alt\n",
    "import pandas as pd\n",
    "from pyteomics import mzml, auxiliary\n",
    "import matplotlib.pyplot as plt\n",
    "import spectrum_utils.plot as sup\n",
    "import spectrum_utils.spectrum as sus\n",
    "import XIC_functions as XIC"
   ]
  },
  {
   "cell_type": "markdown",
   "metadata": {},
   "source": [
    "# XIC Tutorial\n",
    "This notebook will help you to draw XICs of an ion. "
   ]
  },
  {
   "cell_type": "markdown",
   "metadata": {},
   "source": [
    "## Read in your data\n",
    "\n",
    "In this example we will read in a psm file. This will allow us to look at our scans and pick which ones we want to draw XICs for. You do not have to upload an psm file, it is done here simply for convience and example.\n",
    "\n",
    "Below you will be asked to put the mzml file path and the psm file path."
   ]
  },
  {
   "cell_type": "code",
   "execution_count": 2,
   "metadata": {},
   "outputs": [],
   "source": [
    "# MZML file path \n",
    "mzml_path = 'Ex_Auto_W17_30umTB_2ngQC_60m_1.mzML'\n",
    "\n",
    "#mbr file path\n",
    "psm_path = 'psm.tsv'"
   ]
  },
  {
   "cell_type": "code",
   "execution_count": 3,
   "metadata": {},
   "outputs": [],
   "source": [
    "#Reading in our data\n",
    "mzml = pyteomics.mzml.MzML(mzml_path)\n",
    "psms = pd.read_csv(psm_path, sep = '\\t')"
   ]
  },
  {
   "cell_type": "markdown",
   "metadata": {},
   "source": [
    "## Making an XIC\n",
    "\n",
    "To make a single XIC, you will need a mz and retention time for an ion, as well as the MZML file for that ion. For our example we are using the information from the first line of our psm file.\n",
    "\n",
    "The xic can be drawn in two differnt formats: static or interactive.\n",
    "\n",
    "Interactive: The interactive XIC lets us move the graph, zoom in and out, around and look at additional information for each MS2. Hovering over an MS2 dot will give it's precursor mz value, time, scan number, and color classification. \n",
    "\n",
    "Static: The interactive XICs will not show up when pushed to GitHub. This type of XIC is static, allowing results to be pushed and saved. \n",
    "\n",
    "For each of the XICs, the line in red is the input retention time. The blue line represents the MS1 information, and the dots represent MS2 information. \n",
    "   "
   ]
  },
  {
   "cell_type": "code",
   "execution_count": 4,
   "metadata": {},
   "outputs": [],
   "source": [
    "#Choose the mz and retention time that you would like to draw an XIC for\n",
    "#The functions in this notebook assume that the time is given in seconds, not minutes. \n",
    "\n",
    "mz = 545.6288\n",
    "time = 1929.7087"
   ]
  },
  {
   "cell_type": "markdown",
   "metadata": {},
   "source": [
    "### Make an interactive XIC\n",
    "\n",
    "The interactive XIC lets us move the graph, zoom in and out, around and look at additional information for each MS2. Hovering over an MS2 dot will give it's precursor mz value, time, and scan number. \n",
    "\n",
    "Note: The time is divided by 60 because the MBR outputs the time in seconds, but the MZML file stores the time in minutes. Dividing converts the time into minutes and allows us to search the MZML file.\n",
    "\n",
    "Note: this cannot be seen in a GitHub repo. See the graph below for a non-interactive graph that can be seen in GitHub."
   ]
  },
  {
   "cell_type": "code",
   "execution_count": 5,
   "metadata": {},
   "outputs": [
    {
     "data": {
      "text/html": [
       "\n",
       "<div id=\"altair-viz-58cb01b53b69437e8aba64959a8df62c\"></div>\n",
       "<script type=\"text/javascript\">\n",
       "  (function(spec, embedOpt){\n",
       "    let outputDiv = document.currentScript.previousElementSibling;\n",
       "    if (outputDiv.id !== \"altair-viz-58cb01b53b69437e8aba64959a8df62c\") {\n",
       "      outputDiv = document.getElementById(\"altair-viz-58cb01b53b69437e8aba64959a8df62c\");\n",
       "    }\n",
       "    const paths = {\n",
       "      \"vega\": \"https://cdn.jsdelivr.net/npm//vega@5?noext\",\n",
       "      \"vega-lib\": \"https://cdn.jsdelivr.net/npm//vega-lib?noext\",\n",
       "      \"vega-lite\": \"https://cdn.jsdelivr.net/npm//vega-lite@4.8.1?noext\",\n",
       "      \"vega-embed\": \"https://cdn.jsdelivr.net/npm//vega-embed@6?noext\",\n",
       "    };\n",
       "\n",
       "    function loadScript(lib) {\n",
       "      return new Promise(function(resolve, reject) {\n",
       "        var s = document.createElement('script');\n",
       "        s.src = paths[lib];\n",
       "        s.async = true;\n",
       "        s.onload = () => resolve(paths[lib]);\n",
       "        s.onerror = () => reject(`Error loading script: ${paths[lib]}`);\n",
       "        document.getElementsByTagName(\"head\")[0].appendChild(s);\n",
       "      });\n",
       "    }\n",
       "\n",
       "    function showError(err) {\n",
       "      outputDiv.innerHTML = `<div class=\"error\" style=\"color:red;\">${err}</div>`;\n",
       "      throw err;\n",
       "    }\n",
       "\n",
       "    function displayChart(vegaEmbed) {\n",
       "      vegaEmbed(outputDiv, spec, embedOpt)\n",
       "        .catch(err => showError(`Javascript Error: ${err.message}<br>This usually means there's a typo in your chart specification. See the javascript console for the full traceback.`));\n",
       "    }\n",
       "\n",
       "    if(typeof define === \"function\" && define.amd) {\n",
       "      requirejs.config({paths});\n",
       "      require([\"vega-embed\"], displayChart, err => showError(`Error loading script: ${err.message}`));\n",
       "    } else if (typeof vegaEmbed === \"function\") {\n",
       "      displayChart(vegaEmbed);\n",
       "    } else {\n",
       "      loadScript(\"vega\")\n",
       "        .then(() => loadScript(\"vega-lite\"))\n",
       "        .then(() => loadScript(\"vega-embed\"))\n",
       "        .catch(showError)\n",
       "        .then(() => displayChart(vegaEmbed));\n",
       "    }\n",
       "  })({\"config\": {\"view\": {\"continuousWidth\": 400, \"continuousHeight\": 300}}, \"layer\": [{\"data\": {\"name\": \"data-80776d1774fa7f25665a054ed6d28072\"}, \"mark\": \"line\", \"encoding\": {\"x\": {\"type\": \"quantitative\", \"field\": \"time\", \"title\": \"Retention Time\"}, \"y\": {\"type\": \"quantitative\", \"field\": \"intensity\", \"title\": \"Intensity\"}}, \"selection\": {\"selector001\": {\"type\": \"interval\", \"bind\": \"scales\", \"encodings\": [\"x\", \"y\"]}}, \"title\": \"XIC for 545.6288 mz at time 32.161811666666665\"}, {\"data\": {\"name\": \"data-9c2838a5ba54acb241d2509fbde3eea8\"}, \"mark\": {\"type\": \"point\", \"filled\": true}, \"encoding\": {\"color\": {\"value\": \"black\"}, \"tooltip\": [{\"type\": \"quantitative\", \"field\": \"precursor\"}, {\"type\": \"quantitative\", \"field\": \"time\"}, {\"type\": \"nominal\", \"field\": \"scan\"}], \"x\": {\"type\": \"quantitative\", \"field\": \"time\"}, \"y\": {\"type\": \"quantitative\", \"field\": \"precursor\"}}, \"selection\": {\"selector002\": {\"type\": \"interval\", \"bind\": \"scales\", \"encodings\": [\"x\", \"y\"]}}}, {\"data\": {\"name\": \"data-70ae28e396cbb03644a394d12bad4f0b\"}, \"mark\": {\"type\": \"rule\", \"color\": \"red\"}, \"encoding\": {\"x\": {\"type\": \"quantitative\", \"field\": \"x\"}}}], \"$schema\": \"https://vega.github.io/schema/vega-lite/v4.8.1.json\", \"datasets\": {\"data-80776d1774fa7f25665a054ed6d28072\": [{\"scan\": \"7866\", \"mz\": 545.7272516552553, \"time\": 31.891941485373, \"intensity\": 0.0}, {\"scan\": \"7888\", \"mz\": 545.7253219913483, \"time\": 31.944005184937, \"intensity\": 0.0}, {\"scan\": \"7899\", \"mz\": 545.7272309900679, \"time\": 31.97015978651, \"intensity\": 0.0}, {\"scan\": \"7910\", \"mz\": 545.6295691698273, \"time\": 31.996276451715, \"intensity\": 13342.4609375}, {\"scan\": \"7921\", \"mz\": 545.6295763215992, \"time\": 32.022432666588, \"intensity\": 9072.919921875}, {\"scan\": \"7932\", \"mz\": 545.6277007422685, \"time\": 32.048527401257, \"intensity\": 30427.19140625}, {\"scan\": \"7943\", \"mz\": 545.6277289554719, \"time\": 32.07457275149, \"intensity\": 43866.99609375}, {\"scan\": \"7954\", \"mz\": 545.6276848441789, \"time\": 32.100706117916, \"intensity\": 85839.78125}, {\"scan\": \"7965\", \"mz\": 545.6295956776002, \"time\": 32.126796934573, \"intensity\": 111233.34375}, {\"scan\": \"7976\", \"mz\": 545.62757551793, \"time\": 32.152851769892, \"intensity\": 107241.34375}, {\"scan\": \"7987\", \"mz\": 545.6278643671401, \"time\": 32.178872801431, \"intensity\": 130182.8515625}, {\"scan\": \"7998\", \"mz\": 545.6278342266295, \"time\": 32.205004570452, \"intensity\": 136271.25}, {\"scan\": \"8009\", \"mz\": 545.6277863966942, \"time\": 32.231084169515, \"intensity\": 91736.7890625}, {\"scan\": \"8020\", \"mz\": 545.6278339307968, \"time\": 32.257158217398, \"intensity\": 74564.5625}, {\"scan\": \"8031\", \"mz\": 545.6280169380037, \"time\": 32.283274918365, \"intensity\": 89694.1875}, {\"scan\": \"8042\", \"mz\": 545.6282411614751, \"time\": 32.309341936874, \"intensity\": 80120.8359375}, {\"scan\": \"8053\", \"mz\": 545.6278723880998, \"time\": 32.335457386144, \"intensity\": 77574.375}, {\"scan\": \"8064\", \"mz\": 545.62788202933, \"time\": 32.361515269248, \"intensity\": 40021.52734375}, {\"scan\": \"8075\", \"mz\": 545.6298066962065, \"time\": 32.387636150487, \"intensity\": 37248.8515625}, {\"scan\": \"8086\", \"mz\": 545.6278330084639, \"time\": 32.413381534386, \"intensity\": 24937.373046875}, {\"scan\": \"8097\", \"mz\": 545.6279336293475, \"time\": 32.43939698693, \"intensity\": 24441.9765625}, {\"scan\": \"8108\", \"mz\": 545.6278448630076, \"time\": 32.465528334745, \"intensity\": 24474.373046875}, {\"scan\": \"8119\", \"mz\": 545.62988804153, \"time\": 32.491577503649, \"intensity\": 18144.33984375}, {\"scan\": \"8208\", \"mz\": 545.7275320080008, \"time\": 32.700254167684, \"intensity\": 0.0}, {\"scan\": \"8219\", \"mz\": 545.5898074659165, \"time\": 32.726210834153, \"intensity\": 16413.88671875}, {\"scan\": \"8230\", \"mz\": 545.7272863105177, \"time\": 32.752222185898, \"intensity\": 0.0}, {\"scan\": \"8241\", \"mz\": 545.7274211220048, \"time\": 32.778246233432, \"intensity\": 0.0}, {\"scan\": \"8252\", \"mz\": 545.7276425497342, \"time\": 32.804251886972, \"intensity\": 0.0}, {\"scan\": \"8263\", \"mz\": 545.7273516150929, \"time\": 32.830319970417, \"intensity\": 0.0}, {\"scan\": \"8274\", \"mz\": 545.727850280764, \"time\": 32.856381668218, \"intensity\": 0.0}, {\"scan\": \"8285\", \"mz\": 545.7276775923057, \"time\": 32.882404086558, \"intensity\": 0.0}, {\"scan\": \"8296\", \"mz\": 545.7280127269681, \"time\": 32.908478003311, \"intensity\": 0.0}], \"data-9c2838a5ba54acb241d2509fbde3eea8\": [{\"scan\": \"7979\", \"time\": 32.161812656275, \"precursor\": 545.628798170186, \"time_diff\": 9.896083383864607e-07}, {\"scan\": \"7995\", \"time\": 32.198796937021, \"precursor\": 545.309243845305, \"time_diff\": 0.03698527035433585}, {\"scan\": \"8245\", \"time\": 32.78936858689, \"precursor\": 545.238742978908, \"time_diff\": 0.6275569202233342}], \"data-70ae28e396cbb03644a394d12bad4f0b\": [{\"x\": 32.161811666666665}]}}, {\"mode\": \"vega-lite\"});\n",
       "</script>"
      ],
      "text/plain": [
       "alt.LayerChart(...)"
      ]
     },
     "execution_count": 5,
     "metadata": {},
     "output_type": "execute_result"
    }
   ],
   "source": [
    "XIC.make_interactive_xic(mz, time, mzml)"
   ]
  },
  {
   "cell_type": "markdown",
   "metadata": {},
   "source": [
    "### Make a static XIC\n",
    "\n",
    "The interactive XICs will not show up when pushed to GitHub. This type of XIC is static, allowing results to be pushed and saved. "
   ]
  },
  {
   "cell_type": "code",
   "execution_count": 6,
   "metadata": {},
   "outputs": [
    {
     "data": {
      "image/png": "[encoded data removed]",
      "text/plain": [
       "<Figure size 576x432 with 1 Axes>"
      ]
     },
     "metadata": {
      "needs_background": "light"
     },
     "output_type": "display_data"
    }
   ],
   "source": [
    "XIC.make_static_xic(mz, time, mzml)"
   ]
  },
  {
   "cell_type": "markdown",
   "metadata": {},
   "source": [
    "Because we don't have the information about the MS2s on the graph, we would need to print that info if we want to veiw it. This function will show the information for the MS2s on the XIC"
   ]
  },
  {
   "cell_type": "code",
   "execution_count": 7,
   "metadata": {},
   "outputs": [
    {
     "data": {
      "text/html": [
       "<div>\n",
       "<style scoped>\n",
       "    .dataframe tbody tr th:only-of-type {\n",
       "        vertical-align: middle;\n",
       "    }\n",
       "\n",
       "    .dataframe tbody tr th {\n",
       "        vertical-align: top;\n",
       "    }\n",
       "\n",
       "    .dataframe thead th {\n",
       "        text-align: right;\n",
       "    }\n",
       "</style>\n",
       "<table border=\"1\" class=\"dataframe\">\n",
       "  <thead>\n",
       "    <tr style=\"text-align: right;\">\n",
       "      <th></th>\n",
       "      <th>scan</th>\n",
       "      <th>time</th>\n",
       "      <th>precursor</th>\n",
       "      <th>time_diff</th>\n",
       "    </tr>\n",
       "  </thead>\n",
       "  <tbody>\n",
       "    <tr>\n",
       "      <th>0</th>\n",
       "      <td>7979</td>\n",
       "      <td>32.161813</td>\n",
       "      <td>545.628798</td>\n",
       "      <td>9.896083e-07</td>\n",
       "    </tr>\n",
       "    <tr>\n",
       "      <th>1</th>\n",
       "      <td>7995</td>\n",
       "      <td>32.198797</td>\n",
       "      <td>545.309244</td>\n",
       "      <td>3.698527e-02</td>\n",
       "    </tr>\n",
       "    <tr>\n",
       "      <th>2</th>\n",
       "      <td>8245</td>\n",
       "      <td>32.789369</td>\n",
       "      <td>545.238743</td>\n",
       "      <td>6.275569e-01</td>\n",
       "    </tr>\n",
       "  </tbody>\n",
       "</table>\n",
       "</div>"
      ],
      "text/plain": [
       "   scan       time   precursor     time_diff\n",
       "0  7979  32.161813  545.628798  9.896083e-07\n",
       "1  7995  32.198797  545.309244  3.698527e-02\n",
       "2  8245  32.789369  545.238743  6.275569e-01"
      ]
     },
     "execution_count": 7,
     "metadata": {},
     "output_type": "execute_result"
    }
   ],
   "source": [
    "MS2_events = XIC.get_MS2_values(mz, time/60, mzml)\n",
    "MS2_events"
   ]
  }
 ],
 "metadata": {
  "kernelspec": {
   "display_name": "Python 3",
   "language": "python",
   "name": "python3"
  },
  "language_info": {
   "codemirror_mode": {
    "name": "ipython",
    "version": 3
   },
   "file_extension": ".py",
   "mimetype": "text/x-python",
   "name": "python",
   "nbconvert_exporter": "python",
   "pygments_lexer": "ipython3",
   "version": "3.8.3"
  }
 },
 "nbformat": 4,
 "nbformat_minor": 4
}
